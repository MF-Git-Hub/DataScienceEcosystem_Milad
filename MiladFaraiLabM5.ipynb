{
 "cells": [
  {
   "cell_type": "markdown",
   "id": "59a0db13-c04e-4ada-bb09-100c43d40982",
   "metadata": {},
   "source": [
    "### 1 - Extract Tesla Stock Data with yfinance"
   ]
  },
  {
   "cell_type": "markdown",
   "id": "a494a877-de0e-4577-bb38-c2a5b7055bec",
   "metadata": {},
   "source": [
    "Install `yfinance`. Run the following cell:"
   ]
  },
  {
   "cell_type": "code",
   "execution_count": null,
   "id": "91da3262-27e4-4c1c-be5d-338d995df505",
   "metadata": {},
   "outputs": [],
   "source": [
    "!pip install yfinance"
   ]
  },
  {
   "cell_type": "markdown",
   "id": "fa6c5822-df5e-46a0-933d-05f557a83ae2",
   "metadata": {},
   "source": [
    "Perform data extraction:"
   ]
  },
  {
   "cell_type": "code",
   "execution_count": null,
   "id": "1c4c5e4e-05c9-4c19-bd61-594a96d2f666",
   "metadata": {},
   "outputs": [],
   "source": [
    "import yfinance as yf\n",
    "import pandas as pd\n",
    "\n",
    "tesla = yf.Ticker(\"TSLA\")\n",
    "\n",
    "tesla_data = tesla.history(period=\"5y\")\n",
    "print(tesla_data.head())\n",
    "\n",
    "tesla_data.to_csv(\"tesla_stock_data.csv\")"
   ]
  },
  {
   "cell_type": "markdown",
   "id": "1a1518e7-7e7a-4b3e-a3b6-ebe1e79923eb",
   "metadata": {},
   "source": [
    "### 2 - Extract Tesla Earnings Data with Webscraping"
   ]
  },
  {
   "cell_type": "markdown",
   "id": "e93ce004-d620-4a57-ab0e-e2316e643bba",
   "metadata": {},
   "source": [
    "Libraries `BeautifulSoup` & `requests`, For web scraping"
   ]
  },
  {
   "cell_type": "code",
   "execution_count": null,
   "id": "6dfc98ef-a35a-4fe1-8761-0390ec5d01d3",
   "metadata": {},
   "outputs": [],
   "source": [
    "!pip install beautifulsoup4 requests"
   ]
  },
  {
   "cell_type": "markdown",
   "id": "abd05725-ffd4-4ece-a1c6-d1a4e9fc1372",
   "metadata": {},
   "source": [
    "Code to extract Tesla earnings data:"
   ]
  },
  {
   "cell_type": "code",
   "execution_count": null,
   "id": "fda68def-b672-4032-8023-b3c1322cf4f8",
   "metadata": {},
   "outputs": [],
   "source": [
    "import requests\n",
    "from bs4 import BeautifulSoup\n",
    "\n",
    "url = \"https://finance.yahoo.com/quote/TSLA/financials?p=TSLA\"\n",
    "response = requests.get(url)\n",
    "\n",
    "if response.status_code == 200:\n",
    "    soup = BeautifulSoup(response.text, 'html.parser')\n",
    "    tables = soup.find_all('table')\n",
    "    for table in tables:\n",
    "        print(table)\n",
    "else:\n",
    "    print(\"Error while requesting data\")"
   ]
  },
  {
   "cell_type": "markdown",
   "id": "648e7eed-eacc-446d-a35d-30f1009d5c54",
   "metadata": {},
   "source": [
    "### 3 - Extract GameStop Stock Data with yfinance"
   ]
  },
  {
   "cell_type": "markdown",
   "id": "9569a6d1-3e99-429c-b262-3b65234f1561",
   "metadata": {},
   "source": [
    "Retrieving data for **GameStop** is similar to the previous query:"
   ]
  },
  {
   "cell_type": "code",
   "execution_count": null,
   "id": "00bac20d-6e4b-45f9-9d27-d15e09fc0d8f",
   "metadata": {},
   "outputs": [],
   "source": [
    "gamestop = yf.Ticker(\"GME\")\n",
    "\n",
    "gamestop_data = gamestop.history(period=\"5y\")\n",
    "print(gamestop_data.head())\n",
    "\n",
    "gamestop_data.to_csv(\"gamestop_stock_data.csv\")"
   ]
  },
  {
   "cell_type": "markdown",
   "id": "a1bf3ed7-fc36-425c-8e5a-f40c619598e2",
   "metadata": {},
   "source": [
    "### 4 - Extract GameStop Earnings Data with Webscraping"
   ]
  },
  {
   "cell_type": "markdown",
   "id": "e6552ced-de64-45d4-9add-36301be35ad2",
   "metadata": {},
   "source": [
    "Using `requests` and `BeautifulSoup` for GameStop:"
   ]
  },
  {
   "cell_type": "code",
   "execution_count": null,
   "id": "45cdecdd-1895-4208-a6ef-9c15794add48",
   "metadata": {},
   "outputs": [],
   "source": [
    "url = \"https://finance.yahoo.com/quote/GME/financials?p=GME\"\n",
    "response = requests.get(url)\n",
    "\n",
    "if response.status_code == 200:\n",
    "    soup = BeautifulSoup(response.text, 'html.parser')\n",
    "    tables = soup.find_all('table')\n",
    "    for table in tables:\n",
    "        print(table)\n",
    "else:\n",
    "    print(\"Error while requesting data\")"
   ]
  },
  {
   "cell_type": "markdown",
   "id": "260df812-e01d-4607-a345-80b26787f733",
   "metadata": {},
   "source": [
    "### 5 - Tesla Stock and Earnings Dashboard"
   ]
  },
  {
   "cell_type": "markdown",
   "id": "e65a1cc1-c977-4208-ae21-3c40617d3270",
   "metadata": {},
   "source": [
    "For visualization we use `matplotlib` and `plotly`."
   ]
  },
  {
   "cell_type": "code",
   "execution_count": null,
   "id": "efd03da2-1baf-40dc-81ec-d0c04acf01be",
   "metadata": {},
   "outputs": [],
   "source": [
    "!pip install plotly"
   ]
  },
  {
   "cell_type": "markdown",
   "id": "801be209-96ac-4ab8-9c46-2e3105757382",
   "metadata": {},
   "source": [
    "Code for building a dashboard:"
   ]
  },
  {
   "cell_type": "code",
   "execution_count": null,
   "id": "a279aaea-1c6c-4111-88e4-5297be30b4ed",
   "metadata": {},
   "outputs": [],
   "source": [
    "import plotly.graph_objects as go\n",
    "\n",
    "fig = go.Figure()\n",
    "\n",
    "fig.add_trace(go.Scatter(x=tesla_data.index, y=tesla_data['Close'],\n",
    "                         mode='lines',\n",
    "                         name='Tesla Stock Price'))\n",
    "\n",
    "fig.update_layout(\n",
    "    title='Tesla Stock Price Over Time',\n",
    "    xaxis_title='Date',\n",
    "    yaxis_title='Price (USD)',\n",
    "    template='plotly_dark'\n",
    ")\n",
    "\n",
    "fig.show()"
   ]
  },
  {
   "cell_type": "markdown",
   "id": "883ab93a-ba55-4fc6-be61-c05894e11d05",
   "metadata": {},
   "source": [
    "### 6 - GameStop Stock and Earnings Dashboard"
   ]
  },
  {
   "cell_type": "markdown",
   "id": "0b2b7936-70af-459b-8cda-d741c90e22c5",
   "metadata": {},
   "source": [
    "For **GameStop**"
   ]
  },
  {
   "cell_type": "code",
   "execution_count": null,
   "id": "9af453e7-d450-473f-9aee-ecd2f4c98493",
   "metadata": {},
   "outputs": [],
   "source": [
    "fig = go.Figure()\n",
    "\n",
    "fig.add_trace(go.Scatter(x=gamestop_data.index, y=gamestop_data['Close'],\n",
    "                         mode='lines',\n",
    "                         name='GameStop Stock Price'))\n",
    "\n",
    "fig.update_layout(\n",
    "    title='GameStop Stock Price Over Time',\n",
    "    xaxis_title='Date',\n",
    "    yaxis_title='Price (USD)',\n",
    "    template='plotly_dark'\n",
    ")\n",
    "\n",
    "fig.show()"
   ]
  },
  {
   "cell_type": "markdown",
   "id": "203b7e16-a406-470c-89ee-e47f585a1fe5",
   "metadata": {},
   "source": [
    "### 7 - Share a Workbook"
   ]
  }
 ],
 "metadata": {
  "kernelspec": {
   "display_name": "Python 3 (ipykernel)",
   "language": "python",
   "name": "python3"
  },
  "language_info": {
   "codemirror_mode": {
    "name": "ipython",
    "version": 3
   },
   "file_extension": ".py",
   "mimetype": "text/x-python",
   "name": "python",
   "nbconvert_exporter": "python",
   "pygments_lexer": "ipython3",
   "version": "3.11.9"
  }
 },
 "nbformat": 4,
 "nbformat_minor": 5
}
