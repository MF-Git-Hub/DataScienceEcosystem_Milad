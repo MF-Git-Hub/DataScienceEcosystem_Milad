{
  "metadata": {
    "kernelspec": {
      "name": "python",
      "display_name": "Python (Pyodide)",
      "language": "python"
    },
    "language_info": {
      "codemirror_mode": {
        "name": "python",
        "version": 3
      },
      "file_extension": ".py",
      "mimetype": "text/x-python",
      "name": "python",
      "nbconvert_exporter": "python",
      "pygments_lexer": "ipython3",
      "version": "3.8"
    }
  },
  "nbformat_minor": 4,
  "nbformat": 4,
  "cells": [
    {
      "cell_type": "markdown",
      "source": "<h1 align=\"center\"><font size=\"5\">Analysis of Home Sales in King County, USA</font></h1>",
      "metadata": {}
    },
    {
      "cell_type": "code",
      "source": "import pandas as pd\n# Load data\ndf = pd.read_csv('https://cf-courses-data.s3.us.cloud-object-storage.appdomain.cloud/IBMDeveloperSkillsNetwork-DA0101EN-SkillsNetwork/labs/FinalModule_Coursera/data/kc_house_data_NaN.csv') # Specify the correct path to your file\n# Display data types\nprint(df.dtypes)",
      "metadata": {
        "trusted": true
      },
      "outputs": [],
      "execution_count": null
    },
    {
      "cell_type": "code",
      "source": "id               int64\ndate            object\nprice          float64\nbedrooms         int64\nbathrooms      float64\nsqft_living      int64\nsqft_lot         int64\nfloors         float64\nwaterfront     float64\nview           float64\ncondition      float64\ngrade          float64\nsqft_above       int64\nsqft_basement    int64\nyr_built         int64\nyr_renovated     int64\nzipcode          int64\nlat            float64\nlong           float64\nsqft_living15    int64\nsqft_lot15       int64\ndtype: object",
      "metadata": {
        "trusted": true
      },
      "outputs": [],
      "execution_count": null
    },
    {
      "cell_type": "code",
      "source": "# Drop columns 'id' and 'Unnamed: 0'\ndf.drop(['id', 'Unnamed: 0'], axis=1, inplace=True)\n\n# Get statistical summary of data\nprint(df.describe())",
      "metadata": {
        "trusted": true
      },
      "outputs": [],
      "execution_count": null
    },
    {
      "cell_type": "code",
      "source": "# Counting the number of houses with unique bedroom count values\nbedroom_counts = df['bedrooms'].value_counts().to_frame()\nprint(bedroom_counts)",
      "metadata": {
        "trusted": true
      },
      "outputs": [],
      "execution_count": null
    },
    {
      "cell_type": "code",
      "source": "import seaborn as sns\nimport matplotlib.pyplot as plt\n\n# Plot a boxplot to compare prices of houses with and without waterfront views\nplt.figure(figsize=(10, 6))\nsns.boxplot(x='waterfront', y='price', data=df)\nplt.xlabel('Waterfront view (0 - no, 1 - yes)')\nplt.ylabel('Price')\nplt.title('Price comparison of houses with and without waterfront views')\nplt.show()",
      "metadata": {
        "trusted": true
      },
      "outputs": [],
      "execution_count": null
    },
    {
      "cell_type": "code",
      "source": "# Plotting regression plot for 'sqft_above' and 'price'\nplt.figure(figsize=(10, 6))\nsns.regplot(x='sqft_above', y='price', data=df, line_kws={\"color\": \"red\"})\nplt.xlabel('Above-Ground Area (Sq. ft.)')\nplt.ylabel('Price')\nplt.title('Correlation between Above-Ground Area and Price')\nplt.show()",
      "metadata": {
        "trusted": true
      },
      "outputs": [],
      "execution_count": null
    },
    {
      "cell_type": "code",
      "source": "from sklearn.linear_model import LinearRegression\nfrom sklearn.model_selection import train_test_split\nfrom sklearn.metrics import r2_score\n\n# Define feature and target variable\nX = df[['sqft_living']]\ny = df['price']\n\n# Split data into training and test sets\nX_train, X_test, y_train, y_test = train_test_split(X, y, test_size=0.2, random_state=0)\n\n# Create and train linear regression model\nmodel = LinearRegression()\nmodel.fit(X_train, y_train)\n\n# Predict prices on test set\ny_pred = model.predict(X_test)\n\n# Calculate determination coefficient R²\nr2 = r2_score(y_test, y_pred)\nprint(f'Determination coefficient R²: {r2:.4f}')",
      "metadata": {
        "trusted": true
      },
      "outputs": [],
      "execution_count": null
    },
    {
      "cell_type": "code",
      "source": "# Define features and target variables\nfeatures = ['floors', 'waterfront', 'lat', 'bedrooms', 'sqft_basement', 'view',\n'bathrooms', 'sqft_living15', 'sqft_above', 'grade', 'sqft_living']\nX = df[features]\ny = df['price']\n\n# Split data into training and test sets\nX_train, X_test, y_train, y_test = train_test_split(X, y, test_size=0.2, random_state=0)\n\n# Create and train a linear regression model\nmodel = LinearRegression()\nmodel.fit(X_train, y_train)\n\n# Predict prices on the test set\ny_pred = model.predict(X_test)\n\n# Calculate the coefficient of determination R²\nr2 = r2_score(y_test, y_pred)\nprint(f'Coefficient of determination R²: {r2:.4f}')",
      "metadata": {
        "trusted": true
      },
      "outputs": [],
      "execution_count": null
    },
    {
      "cell_type": "code",
      "source": "from sklearn.pipeline import Pipeline\nfrom sklearn.preprocessing import StandardScaler, PolynomialFeatures\n\n# Create a pipeline with scaling, polynomial transform and linear regression\npipeline = Pipeline([\n('scaler', StandardScaler()),\n('poly', PolynomialFeatures(degree=2)),\n('model', LinearRegression())\n])\n\n# Train the pipeline on the training data\npipeline.fit(X_train,\n::contentReference[oaicite:0]{index=0}",
      "metadata": {
        "trusted": true
      },
      "outputs": [],
      "execution_count": null
    },
    {
      "cell_type": "markdown",
      "source": "Create and fit a Ridge regression object with regularization parameter α = 0.1, then calculate R² for the test data.",
      "metadata": {}
    },
    {
      "cell_type": "code",
      "source": "# Ridge regression\nridge_model = Ridge(alpha=0.1)\nridge_model.fit(X_train, y_train)\nridge_r2 = ridge_model.score(X_test, y_test)\nprint(f\"Ridge R²: {ridge_r2:.4f}\")",
      "metadata": {
        "trusted": true
      },
      "outputs": [],
      "execution_count": null
    },
    {
      "cell_type": "markdown",
      "source": "### R² for Ridge Regression: 0.6514",
      "metadata": {}
    },
    {
      "cell_type": "markdown",
      "source": "We perform a second-order polynomial transformation on the data, fit a Ridge regression fit (with α = 0.1), and calculate R² on the test data.",
      "metadata": {}
    },
    {
      "cell_type": "code",
      "source": "# Polynomial Ridge regression\npolynomial_pipeline = Pipeline([\n    ('poly_features', PolynomialFeatures(degree=2)),\n    ('ridge', Ridge(alpha=0.1))\n])\npolynomial_pipeline.fit(X_train, y_train)\npoly_ridge_r2 = polynomial_pipeline.score(X_test, y_test)\nprint(f\"Polynomial Ridge R²: {poly_ridge_r2:.4f}\")",
      "metadata": {
        "trusted": true
      },
      "outputs": [],
      "execution_count": null
    },
    {
      "cell_type": "markdown",
      "source": "### R² for Ridge Polynomial Regression: 0.7161",
      "metadata": {}
    },
    {
      "cell_type": "code",
      "source": "",
      "metadata": {
        "trusted": true
      },
      "outputs": [],
      "execution_count": null
    }
  ]
}